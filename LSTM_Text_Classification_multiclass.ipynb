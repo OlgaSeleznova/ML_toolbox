{
  "nbformat": 4,
  "nbformat_minor": 0,
  "metadata": {
    "colab": {
      "name": "LSTM Text Classification_multiclass.ipynb",
      "provenance": [],
      "collapsed_sections": [],
      "toc_visible": true,
      "include_colab_link": true
    },
    "kernelspec": {
      "name": "python3",
      "display_name": "Python 3"
    },
    "accelerator": "GPU"
  },
  "cells": [
    {
      "cell_type": "markdown",
      "metadata": {
        "id": "view-in-github",
        "colab_type": "text"
      },
      "source": [
        "<a href=\"https://colab.research.google.com/github/OlgaSeleznova/ML_toolbox/blob/main/LSTM_Text_Classification_multiclass.ipynb\" target=\"_parent\"><img src=\"https://colab.research.google.com/assets/colab-badge.svg\" alt=\"Open In Colab\"/></a>"
      ]
    },
    {
      "cell_type": "code",
      "metadata": {
        "colab": {
          "base_uri": "https://localhost:8080/"
        },
        "id": "HKYNlijseKpz",
        "outputId": "1f50debc-e292-4790-e286-2d079f839dd6"
      },
      "source": [
        "# load data\n",
        "from google.colab import drive\n",
        "drive.mount('/content/drive/')"
      ],
      "execution_count": 29,
      "outputs": [
        {
          "output_type": "stream",
          "text": [
            "Drive already mounted at /content/drive/; to attempt to forcibly remount, call drive.mount(\"/content/drive/\", force_remount=True).\n"
          ],
          "name": "stdout"
        }
      ]
    },
    {
      "cell_type": "markdown",
      "metadata": {
        "id": "mqB-iSUGNnkJ"
      },
      "source": [
        "# Libraries"
      ]
    },
    {
      "cell_type": "code",
      "metadata": {
        "id": "tgWpYREtQns9"
      },
      "source": [
        "# Libraries\n",
        "import matplotlib.pyplot as plt\n",
        "import pandas as pd\n",
        "import torch\n",
        "import numpy as np\n",
        "\n",
        "# Preliminaries\n",
        "from torchtext.legacy import data\n",
        "\n",
        "# Models\n",
        "import torch.nn as nn\n",
        "from torch.nn.utils.rnn import pack_padded_sequence, pad_packed_sequence\n",
        "\n",
        "# Training\n",
        "import torch.optim as optim\n",
        "import torch.nn.functional as F\n",
        "\n",
        "# Evaluation\n",
        "from sklearn.metrics import mean_squared_error\n",
        "from sklearn.metrics import accuracy_score, classification_report, confusion_matrix\n",
        "import seaborn as sns"
      ],
      "execution_count": 30,
      "outputs": []
    },
    {
      "cell_type": "markdown",
      "metadata": {
        "id": "u6dyP4Y7Nq0b"
      },
      "source": [
        "# Preliminaries"
      ]
    },
    {
      "cell_type": "code",
      "metadata": {
        "id": "mmWm6x3GHHSW",
        "colab": {
          "base_uri": "https://localhost:8080/"
        },
        "outputId": "6f21068c-cd2a-4bf7-a476-23a3a71b7b01"
      },
      "source": [
        "# create cuda device\n",
        "device = torch.device('cuda:0' if torch.cuda.is_available() else 'cpu')\n",
        "print(device)\n",
        "\n",
        "# Fields\n",
        "def tokenize(s): return s.split(' ')\n",
        "LABEL = data.LabelField(use_vocab=False, batch_first=True, dtype=torch.int)\n",
        "TEXT = data.Field(tokenize=tokenize, lower=True, include_lengths=True, batch_first=True)\n",
        "fields = [('text', TEXT),('label', LABEL)]\n",
        "\n",
        "# TabularDataset\n",
        "source_folder = '/content/drive/My Drive/ML_toolbox/data/eng_lyrics'\n",
        "\n",
        "train, valid, test = data.TabularDataset.splits(path=source_folder, train = 'train.csv', validation = 'valid.csv', test = 'test.csv',\n",
        "                                          format='CSV', fields=fields, skip_header=True)\n",
        "# Iterators\n",
        "def create_iterator(dataset):\n",
        "    return data.BucketIterator(dataset, batch_size=32, sort_key=lambda x: len(x.text), device=device, sort=False, sort_within_batch=True, shuffle=True)\n",
        "    \n",
        "train_iter = create_iterator(train)\n",
        "valid_iter = create_iterator(valid)\n",
        "test_iter = create_iterator(test)\n",
        "\n",
        "# Create vocabulary from train set\n",
        "TEXT.build_vocab(train, min_freq=3)"
      ],
      "execution_count": 31,
      "outputs": [
        {
          "output_type": "stream",
          "text": [
            "cuda:0\n"
          ],
          "name": "stdout"
        }
      ]
    },
    {
      "cell_type": "markdown",
      "metadata": {
        "id": "Gocz9HMqNvtb"
      },
      "source": [
        "# Model"
      ]
    },
    {
      "cell_type": "code",
      "metadata": {
        "id": "GSMQT8I6aRYS"
      },
      "source": [
        "class LSTM(torch.nn.Module) :\n",
        "    def __init__(self, vocab_size, embedding_dim, hidden_dim) :\n",
        "        super().__init__()\n",
        "        self.embeddings = nn.Embedding(vocab_size, embedding_dim, padding_idx=0)\n",
        "        self.lstm = nn.LSTM(embedding_dim, hidden_dim, batch_first=True)\n",
        "        self.linear = nn.Linear(hidden_dim, 5)\n",
        "        self.dropout = nn.Dropout(0.2)\n",
        "        \n",
        "    def forward(self, x, l):\n",
        "        x = self.embeddings(x)\n",
        "        x = self.dropout(x)\n",
        "        lstm_out, (ht, ct) = self.lstm(x)\n",
        "        return self.linear(ht[-1])"
      ],
      "execution_count": 32,
      "outputs": []
    },
    {
      "cell_type": "markdown",
      "metadata": {
        "id": "ryFSA7PBBFVP"
      },
      "source": [
        "# Training"
      ]
    },
    {
      "cell_type": "code",
      "metadata": {
        "id": "7yK4vnCfae1w"
      },
      "source": [
        "def train_model(model, train_iter, epochs=10, lr=0.001):\n",
        "    parameters = filter(lambda p: p.requires_grad, model.parameters())\n",
        "    optimizer = torch.optim.Adam(parameters, lr=lr)\n",
        "    labels_true = []\n",
        "    labels_pred = []\n",
        "    validation_acc = []\n",
        "    delta = 0.001\n",
        "    i=0\n",
        "    while i < epochs:\n",
        "        i+=1\n",
        "        model.train()\n",
        "        sum_loss = 0.0\n",
        "        total = 0\n",
        "        for (text,text_len), labels in train_iter:\n",
        "            #send variables to cuda\n",
        "            labels = labels.to(device)\n",
        "            text_len = text_len.cpu().to(device)\n",
        "            text = text.to(device)\n",
        "            #forward pass\n",
        "            output = model(text, text_len)\n",
        "            optimizer.zero_grad()\n",
        "            loss = F.cross_entropy(output, labels.long()).to(device)\n",
        "            #backward pass\n",
        "            loss.backward()\n",
        "            optimizer.step()\n",
        "            # validate model\n",
        "            sum_loss += loss.item()*labels.shape[0]\n",
        "            total += labels.shape[0]\n",
        "        val_loss, val_acc, val_rmse, label_pred, label_true = validation_metrics(model, valid_iter)\n",
        "        #convert tensor to float \n",
        "        val_acc = val_acc.item()\n",
        "        #save stats\n",
        "        labels_pred.append(label_pred.detach().cpu().numpy())\n",
        "        labels_true.append(label_true.detach().cpu().numpy())\n",
        "        validation_acc.append(val_acc)\n",
        "        print(\"epoch %.0f, train loss %.3f, val loss %.3f, val accuracy %.3f, and val rmse %.3f\" % (i, sum_loss/total, val_loss, val_acc, val_rmse))\n",
        "        #create a stopping criteria\n",
        "        if i > 5:\n",
        "            if (val_acc-validation_acc[-3] < delta) and (val_acc-validation_acc[-2] < delta):\n",
        "                break\n",
        "        else:\n",
        "            continue\n",
        "    return labels_pred, labels_true\n",
        "\n",
        "def validation_metrics (model, valid_iter):\n",
        "    model.eval()\n",
        "    correct = 0\n",
        "    total = 0\n",
        "    sum_loss = 0.0\n",
        "    sum_rmse = 0.0\n",
        "    for (text, text_len), labels in valid_iter:\n",
        "        labels = labels.to(device)\n",
        "        text_len = text_len.cpu().to(device)\n",
        "        text = text.to(device)\n",
        "        #forward pass\n",
        "        output = model(text,text_len)\n",
        "        #calculate loss and labels prediction \n",
        "        loss = F.cross_entropy(output, labels.long()).to(device)\n",
        "        pred = torch.max(output, 1)[1]\n",
        "        # save statistics\n",
        "        correct += (pred == labels).float().sum()\n",
        "        total += labels.shape[0]\n",
        "        sum_loss += loss.item()*labels.shape[0]\n",
        "        sum_rmse += np.sqrt(mean_squared_error(pred.cpu(), labels.cpu().unsqueeze(-1)))*labels.cpu().shape[0]\n",
        "    return sum_loss/total, correct/total, sum_rmse/total, pred, labels"
      ],
      "execution_count": 33,
      "outputs": []
    },
    {
      "cell_type": "code",
      "metadata": {
        "id": "LT__unB0aqhx",
        "colab": {
          "base_uri": "https://localhost:8080/"
        },
        "outputId": "feacdff6-3b50-47f5-f2ff-85d42f8257f4"
      },
      "source": [
        "model =  LSTM (len(TEXT.vocab), 300, 128).to(device)\n",
        "genre_pred, genre_true = train_model(model, train_iter, epochs=30, lr=0.001)"
      ],
      "execution_count": 34,
      "outputs": [
        {
          "output_type": "stream",
          "text": [
            "epoch 1, train loss 1.304, val loss 1.203, val accuracy 0.502, and val rmse 1.640\n",
            "epoch 2, train loss 1.073, val loss 1.086, val accuracy 0.565, and val rmse 1.708\n",
            "epoch 3, train loss 0.958, val loss 1.049, val accuracy 0.587, and val rmse 1.547\n",
            "epoch 4, train loss 0.878, val loss 1.040, val accuracy 0.603, and val rmse 1.532\n",
            "epoch 5, train loss 0.784, val loss 1.127, val accuracy 0.570, and val rmse 1.633\n",
            "epoch 6, train loss 0.722, val loss 1.063, val accuracy 0.613, and val rmse 1.541\n",
            "epoch 7, train loss 0.642, val loss 1.089, val accuracy 0.613, and val rmse 1.535\n",
            "epoch 8, train loss 0.586, val loss 1.154, val accuracy 0.614, and val rmse 1.527\n",
            "epoch 9, train loss 0.524, val loss 1.195, val accuracy 0.614, and val rmse 1.504\n",
            "epoch 10, train loss 0.480, val loss 1.267, val accuracy 0.611, and val rmse 1.534\n"
          ],
          "name": "stdout"
        }
      ]
    },
    {
      "cell_type": "markdown",
      "metadata": {
        "id": "uB5DcGCSFE7v"
      },
      "source": [
        "# Evaluation"
      ]
    },
    {
      "cell_type": "code",
      "metadata": {
        "id": "08JubEacEMKE",
        "colab": {
          "base_uri": "https://localhost:8080/",
          "height": 825
        },
        "outputId": "ac86e230-38d1-4e2b-cadb-c26a69fe7347"
      },
      "source": [
        "from sklearn.metrics import confusion_matrix\n",
        "from sklearn.metrics import classification_report\n",
        "import matplotlib.pyplot as plt\n",
        "import matplotlib.ticker as ticker\n",
        "\n",
        "\n",
        "def plot_cm(y, pred, target_names=''):\n",
        "    conf_m = confusion_matrix(y, pred)\n",
        "    print('Confusion matrix:\\n', conf_m, '\\n')\n",
        "\n",
        "    fractions = (conf_m / conf_m.sum(axis=0) * 100.0).round(2)\n",
        "    fig = plt.figure(figsize=(8, 8))\n",
        "    ax = fig.add_subplot(111)\n",
        "    cax = ax.matshow(fractions)\n",
        "    fig.colorbar(cax)\n",
        "\n",
        "    # set up axes\n",
        "    labels = [''] + list(target_names)\n",
        "    ax.set_xticklabels(labels, rotation=90)\n",
        "    ax.set_yticklabels(labels)\n",
        "    \n",
        "    # force label at every tick\n",
        "    ax.xaxis.set_major_locator(ticker.MultipleLocator(1))\n",
        "    ax.yaxis.set_major_locator(ticker.MultipleLocator(1))\n",
        "    plt.show()\n",
        "\n",
        "#encoded genre names\n",
        "genre_srt_to_int = {'Rock':0, 'Pop':1, 'Hip-Hop':2, 'Metal':3, 'Country':4}\n",
        "#stack labels\n",
        "genre_pred_,genre_true_ = np.concatenate(genre_pred),np.concatenate(genre_true)\n",
        "#print classification report and visualize confusion matrix\n",
        "print(classification_report(genre_true_, genre_pred_, target_names=list(genre_srt_to_int.keys())))\n",
        "plot_cm(genre_true_, genre_pred_, target_names=list(genre_srt_to_int.keys()))"
      ],
      "execution_count": 35,
      "outputs": [
        {
          "output_type": "stream",
          "text": [
            "              precision    recall  f1-score   support\n",
            "\n",
            "        Rock       0.49      0.37      0.42        78\n",
            "         Pop       0.49      0.50      0.49        68\n",
            "     Hip-Hop       0.45      0.74      0.56        39\n",
            "       Metal       0.71      0.72      0.72        75\n",
            "     Country       0.69      0.58      0.63        60\n",
            "\n",
            "    accuracy                           0.57       320\n",
            "   macro avg       0.57      0.58      0.57       320\n",
            "weighted avg       0.57      0.57      0.56       320\n",
            "\n",
            "Confusion matrix:\n",
            " [[29 16 12 12  9]\n",
            " [13 34  9  6  6]\n",
            " [ 3  4 29  2  1]\n",
            " [ 9  4  8 54  0]\n",
            " [ 5 12  6  2 35]] \n",
            "\n"
          ],
          "name": "stdout"
        },
        {
          "output_type": "display_data",
          "data": {
            "image/png": "[encoded data removed]",
            "text/plain": [
              "<Figure size 576x576 with 2 Axes>"
            ]
          },
          "metadata": {
            "tags": [],
            "needs_background": "light"
          }
        }
      ]
    },
    {
      "cell_type": "code",
      "metadata": {
        "id": "wUTC_ovxS5zp"
      },
      "source": [
        ""
      ],
      "execution_count": null,
      "outputs": []
    }
  ]
}