{
  "nbformat": 4,
  "nbformat_minor": 0,
  "metadata": {
    "colab": {
      "name": "LSTM Text Classification_multiclass.ipynb",
      "provenance": [],
      "collapsed_sections": [],
      "toc_visible": true,
      "include_colab_link": true
    },
    "kernelspec": {
      "name": "python3",
      "display_name": "Python 3"
    },
    "accelerator": "GPU"
  },
  "cells": [
    {
      "cell_type": "markdown",
      "metadata": {
        "id": "view-in-github",
        "colab_type": "text"
      },
      "source": [
        "<a href=\"https://colab.research.google.com/github/OlgaSeleznova/ML_toolbox/blob/main/LSTM_Text_Classification_multiclass.ipynb\" target=\"_parent\"><img src=\"https://colab.research.google.com/assets/colab-badge.svg\" alt=\"Open In Colab\"/></a>"
      ]
    },
    {
      "cell_type": "code",
      "metadata": {
        "colab": {
          "base_uri": "https://localhost:8080/"
        },
        "id": "HKYNlijseKpz",
        "outputId": "795be174-d1e6-43e0-e789-07bd34f9d9e4"
      },
      "source": [
        "# load data\n",
        "from google.colab import drive\n",
        "drive.mount('/content/drive/')"
      ],
      "execution_count": 16,
      "outputs": [
        {
          "output_type": "stream",
          "text": [
            "Drive already mounted at /content/drive/; to attempt to forcibly remount, call drive.mount(\"/content/drive/\", force_remount=True).\n"
          ],
          "name": "stdout"
        }
      ]
    },
    {
      "cell_type": "markdown",
      "metadata": {
        "id": "mqB-iSUGNnkJ"
      },
      "source": [
        "# Libraries"
      ]
    },
    {
      "cell_type": "code",
      "metadata": {
        "id": "tgWpYREtQns9"
      },
      "source": [
        "# Libraries\n",
        "import matplotlib.pyplot as plt\n",
        "import pandas as pd\n",
        "import torch\n",
        "import numpy as np\n",
        "\n",
        "# Preliminaries\n",
        "from torchtext.legacy import data\n",
        "\n",
        "# Models\n",
        "import torch.nn as nn\n",
        "from torch.nn.utils.rnn import pack_padded_sequence, pad_packed_sequence\n",
        "\n",
        "# Training\n",
        "import torch.optim as optim\n",
        "import torch.nn.functional as F\n",
        "\n",
        "# Evaluation\n",
        "from sklearn.metrics import mean_squared_error\n",
        "from sklearn.metrics import accuracy_score, classification_report, confusion_matrix\n",
        "import seaborn as sns"
      ],
      "execution_count": 17,
      "outputs": []
    },
    {
      "cell_type": "markdown",
      "metadata": {
        "id": "u6dyP4Y7Nq0b"
      },
      "source": [
        "# Preliminaries"
      ]
    },
    {
      "cell_type": "code",
      "metadata": {
        "id": "mmWm6x3GHHSW",
        "colab": {
          "base_uri": "https://localhost:8080/"
        },
        "outputId": "c60f938b-2aae-4fcf-b962-0d61fc30ab0f"
      },
      "source": [
        "# create cuda device\n",
        "device = torch.device('cuda:0' if torch.cuda.is_available() else 'cpu')\n",
        "print(device)\n",
        "\n",
        "# Fields\n",
        "def tokenize(s): return s.split(' ')\n",
        "LABEL = data.LabelField(use_vocab=False, batch_first=True, dtype=torch.int)\n",
        "TEXT = data.Field(tokenize=tokenize, lower=True, include_lengths=True, batch_first=True)\n",
        "fields = [('text', TEXT),('label', LABEL)]\n",
        "\n",
        "# TabularDataset\n",
        "source_folder = '/content/drive/My Drive/ML_toolbox/data/eng_lyrics'\n",
        "\n",
        "train, valid, test = data.TabularDataset.splits(path=source_folder, train = 'train.csv', validation = 'valid.csv', test = 'test.csv',\n",
        "                                          format='CSV', fields=fields, skip_header=True)\n",
        "# Iterators\n",
        "def create_iterator(dataset):\n",
        "    return data.BucketIterator(dataset, batch_size=32, sort_key=lambda x: len(x.text), device=device, sort=False, sort_within_batch=True, shuffle=True)\n",
        "    \n",
        "train_iter = create_iterator(train)\n",
        "valid_iter = create_iterator(valid)\n",
        "test_iter = create_iterator(test)\n",
        "\n",
        "# Create vocabulary from train set\n",
        "TEXT.build_vocab(train, min_freq=3)"
      ],
      "execution_count": 18,
      "outputs": [
        {
          "output_type": "stream",
          "text": [
            "cuda:0\n"
          ],
          "name": "stdout"
        }
      ]
    },
    {
      "cell_type": "markdown",
      "metadata": {
        "id": "Gocz9HMqNvtb"
      },
      "source": [
        "# Model"
      ]
    },
    {
      "cell_type": "code",
      "metadata": {
        "id": "GSMQT8I6aRYS"
      },
      "source": [
        "class LSTM(torch.nn.Module) :\n",
        "    def __init__(self, vocab_size, embedding_dim, hidden_dim) :\n",
        "        super().__init__()\n",
        "        self.embeddings = nn.Embedding(vocab_size, embedding_dim, padding_idx=0)\n",
        "        self.lstm = nn.LSTM(embedding_dim, hidden_dim, batch_first=True)\n",
        "        self.linear = nn.Linear(hidden_dim, 5)\n",
        "        self.dropout = nn.Dropout(0.2)\n",
        "        \n",
        "    def forward(self, x, l):\n",
        "        x = self.embeddings(x)\n",
        "        x = self.dropout(x)\n",
        "        lstm_out, (ht, ct) = self.lstm(x)\n",
        "        return self.linear(ht[-1])"
      ],
      "execution_count": 19,
      "outputs": []
    },
    {
      "cell_type": "markdown",
      "metadata": {
        "id": "ryFSA7PBBFVP"
      },
      "source": [
        "# Training"
      ]
    },
    {
      "cell_type": "code",
      "metadata": {
        "id": "7yK4vnCfae1w"
      },
      "source": [
        "def train_model(model, train_iter, epochs=10, lr=0.001):\n",
        "    parameters = filter(lambda p: p.requires_grad, model.parameters())\n",
        "    optimizer = torch.optim.Adam(parameters, lr=lr)\n",
        "    labels_true = []\n",
        "    labels_pred = []\n",
        "    validation_acc = []\n",
        "    delta = 0.001\n",
        "    i=0\n",
        "    while i < epochs:\n",
        "        i+=1\n",
        "        model.train()\n",
        "        sum_loss = 0.0\n",
        "        total = 0\n",
        "        for (text,text_len), labels in train_iter:\n",
        "\n",
        "            labels = labels.to(device)\n",
        "            text_len = text_len.cpu().to(device)\n",
        "            text = text.to(device)\n",
        "\n",
        "            output = model(text, text_len)\n",
        "            optimizer.zero_grad()\n",
        "            loss = F.cross_entropy(output, labels.long()).to(device)\n",
        "            \n",
        "            loss.backward()\n",
        "            optimizer.step()\n",
        "            sum_loss += loss.item()*labels.shape[0]\n",
        "            total += labels.shape[0]\n",
        "        val_loss, val_acc, val_rmse, label_pred, label_true = validation_metrics(model, valid_iter)\n",
        "        #convert tensor to float\n",
        "        val_acc = val_acc.item()\n",
        "        #save stats\n",
        "        labels_pred.append(label_pred.detach().cpu().numpy())\n",
        "        labels_true.append(label_true.detach().cpu().numpy())\n",
        "        validation_acc.append(val_acc)\n",
        "        print(\"epoch %.0f, train loss %.3f, val loss %.3f, val accuracy %.3f, and val rmse %.3f\" % (i, sum_loss/total, val_loss, val_acc, val_rmse))\n",
        "\n",
        "        #create a stopping criteria \n",
        "        if i > 5:\n",
        "            if (val_acc-validation_acc[-3] < delta) and (val_acc-validation_acc[-2] < delta):\n",
        "                break\n",
        "        else:\n",
        "            \n",
        "            continue\n",
        "        \n",
        "\n",
        "    return labels_pred, labels_true\n",
        "\n",
        "def validation_metrics (model, valid_iter):\n",
        "    model.eval()\n",
        "    correct = 0\n",
        "    total = 0\n",
        "    sum_loss = 0.0\n",
        "    sum_rmse = 0.0\n",
        "    for (text, text_len), labels in valid_iter:\n",
        "        labels = labels.to(device)\n",
        "        text_len = text_len.cpu().to(device)\n",
        "        text = text.to(device)\n",
        "        \n",
        "        output = model(text,text_len)\n",
        "        loss = F.cross_entropy(output, labels.long()).to(device)\n",
        "        pred = torch.max(output, 1)[1]\n",
        "        correct += (pred == labels).float().sum()\n",
        "        total += labels.shape[0]\n",
        "        sum_loss += loss.item()*labels.shape[0]\n",
        "        sum_rmse += np.sqrt(mean_squared_error(pred.cpu(), labels.cpu().unsqueeze(-1)))*labels.cpu().shape[0]\n",
        "    return sum_loss/total, correct/total, sum_rmse/total, pred, labels"
      ],
      "execution_count": 20,
      "outputs": []
    },
    {
      "cell_type": "code",
      "metadata": {
        "id": "LT__unB0aqhx",
        "colab": {
          "base_uri": "https://localhost:8080/"
        },
        "outputId": "db114f1b-ee37-4510-97d3-bc0536a07914"
      },
      "source": [
        "model =  LSTM (len(TEXT.vocab), 300, 128).to(device)\n",
        "genre_pred, genre_true = train_model(model, train_iter, epochs=30, lr=0.005)"
      ],
      "execution_count": 21,
      "outputs": [
        {
          "output_type": "stream",
          "text": [
            "epoch 1, train loss 1.280, val loss 1.191, val accuracy 0.490, and val rmse 1.686\n",
            "epoch 2, train loss 1.079, val loss 1.095, val accuracy 0.547, and val rmse 1.719\n",
            "epoch 3, train loss 1.011, val loss 1.110, val accuracy 0.544, and val rmse 1.633\n",
            "epoch 4, train loss 0.964, val loss 1.073, val accuracy 0.569, and val rmse 1.609\n",
            "epoch 5, train loss 0.908, val loss 1.072, val accuracy 0.580, and val rmse 1.587\n",
            "epoch 6, train loss 0.876, val loss 1.067, val accuracy 0.582, and val rmse 1.599\n",
            "epoch 7, train loss 0.848, val loss 1.100, val accuracy 0.570, and val rmse 1.591\n"
          ],
          "name": "stdout"
        }
      ]
    },
    {
      "cell_type": "markdown",
      "metadata": {
        "id": "uB5DcGCSFE7v"
      },
      "source": [
        "# Evaluation"
      ]
    },
    {
      "cell_type": "code",
      "metadata": {
        "id": "08JubEacEMKE",
        "colab": {
          "base_uri": "https://localhost:8080/",
          "height": 825
        },
        "outputId": "b3834de0-50d0-4d80-c32a-288cb488e1f9"
      },
      "source": [
        "from sklearn.metrics import confusion_matrix\n",
        "from sklearn.metrics import classification_report\n",
        "import matplotlib.pyplot as plt\n",
        "import matplotlib.ticker as ticker\n",
        "\n",
        "\n",
        "def plot_cm(y, pred, target_names=''):\n",
        "\n",
        "    conf_m = confusion_matrix(y, pred)\n",
        "    print('Confusion matrix:\\n', conf_m, '\\n')\n",
        "\n",
        "    fractions = (conf_m / conf_m.sum(axis=0) * 100.0).round(2)\n",
        "\n",
        "    fig = plt.figure(figsize=(8, 8))\n",
        "    ax = fig.add_subplot(111)\n",
        "    cax = ax.matshow(fractions)\n",
        "    fig.colorbar(cax)\n",
        "\n",
        "    # set up axes\n",
        "    labels = [''] + list(target_names)\n",
        "    ax.set_xticklabels(labels, rotation=90)\n",
        "    ax.set_yticklabels(labels)\n",
        "\n",
        "    # force label at every tick\n",
        "    ax.xaxis.set_major_locator(ticker.MultipleLocator(1))\n",
        "    ax.yaxis.set_major_locator(ticker.MultipleLocator(1))\n",
        "\n",
        "    plt.show()\n",
        "\n",
        "#encoded genre names\n",
        "genre_srt_to_int = {'Rock':0, 'Pop':1, 'Hip-Hop':2, 'Metal':3, 'Country':4}\n",
        "#stack \n",
        "genre_pred_,genre_true_ = np.concatenate(genre_pred),np.concatenate(genre_true)\n",
        "#print \n",
        "print(classification_report(genre_true_, genre_pred_, target_names=list(genre_srt_to_int.keys())))\n",
        "plot_cm(genre_true_, genre_pred_, target_names=list(genre_srt_to_int.keys()))"
      ],
      "execution_count": 22,
      "outputs": [
        {
          "output_type": "stream",
          "text": [
            "              precision    recall  f1-score   support\n",
            "\n",
            "        Rock       0.34      0.23      0.27        48\n",
            "         Pop       0.40      0.42      0.41        52\n",
            "     Hip-Hop       0.51      0.64      0.57        33\n",
            "       Metal       0.58      0.77      0.66        48\n",
            "     Country       0.69      0.51      0.59        43\n",
            "\n",
            "    accuracy                           0.50       224\n",
            "   macro avg       0.50      0.51      0.50       224\n",
            "weighted avg       0.50      0.50      0.49       224\n",
            "\n",
            "Confusion matrix:\n",
            " [[11 11  8 14  4]\n",
            " [10 22  7  8  5]\n",
            " [ 4  4 21  4  0]\n",
            " [ 3  4  3 37  1]\n",
            " [ 4 14  2  1 22]] \n",
            "\n"
          ],
          "name": "stdout"
        },
        {
          "output_type": "display_data",
          "data": {
            "image/png": "[encoded data removed]",
            "text/plain": [
              "<Figure size 576x576 with 2 Axes>"
            ]
          },
          "metadata": {
            "tags": [],
            "needs_background": "light"
          }
        }
      ]
    }
  ]
}